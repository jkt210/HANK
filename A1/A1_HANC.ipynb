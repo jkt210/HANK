{
 "cells": [
  {
   "cell_type": "markdown",
   "metadata": {},
   "source": [
    "# Advanced Macroeconomics - Heterogenous Agent Models\n",
    "Assignment I - HANC with two types of labour"
   ]
  },
  {
   "cell_type": "code",
   "execution_count": null,
   "metadata": {},
   "outputs": [],
   "source": [
    "%load_ext autoreload\n",
    "%autoreload 2\n",
    "\n",
    "import time\n",
    "import pickle\n",
    "import numpy as np\n",
    "from scipy import optimize\n",
    "\n",
    "import matplotlib.pyplot as plt   \n",
    "colors = plt.rcParams['axes.prop_cycle'].by_key()['color']\n",
    "plt.rcParams.update({\"axes.grid\" : True, \"grid.color\": \"black\", \"grid.alpha\":\"0.25\", \"grid.linestyle\": \"--\"})\n",
    "plt.rcParams.update({'font.size': 14})\n",
    "\n",
    "from HANCModel import HANCModelClass"
   ]
  },
  {
   "cell_type": "markdown",
   "metadata": {},
   "source": [
    "## a) Setup"
   ]
  },
  {
   "cell_type": "code",
   "execution_count": null,
   "metadata": {},
   "outputs": [],
   "source": [
    "model = HANCModelClass(name='baseline')"
   ]
  },
  {
   "cell_type": "code",
   "execution_count": null,
   "metadata": {},
   "outputs": [],
   "source": [
    "par = model.par\n",
    "ss = model.ss\n",
    "path = model.path\n",
    "sim = model.sim"
   ]
  },
  {
   "cell_type": "markdown",
   "metadata": {},
   "source": [
    "The DAG for the model"
   ]
  },
  {
   "cell_type": "code",
   "execution_count": null,
   "metadata": {},
   "outputs": [],
   "source": [
    "model.info(only_blocks=True)\n",
    "model.draw_DAG(figsize=(10,10))"
   ]
  },
  {
   "cell_type": "markdown",
   "metadata": {},
   "source": [
    "Find the solution of the household problem:"
   ]
  },
  {
   "cell_type": "code",
   "execution_count": null,
   "metadata": {},
   "outputs": [],
   "source": [
    "# guess\n",
    "ss.r = 0.02\n",
    "ss.w0 = 1.00\n",
    "ss.w1 = 1.00\n",
    "ss.phi0 = 1.0\n",
    "ss.phi1 = 2.0"
   ]
  },
  {
   "cell_type": "code",
   "execution_count": null,
   "metadata": {},
   "outputs": [],
   "source": [
    "model.solve_hh_ss(do_print=True)\n",
    "model.simulate_hh_ss(do_print=True)"
   ]
  },
  {
   "cell_type": "code",
   "execution_count": null,
   "metadata": {},
   "outputs": [],
   "source": [
    "#model.test_hh_path()"
   ]
  },
  {
   "cell_type": "markdown",
   "metadata": {},
   "source": [
    "## b) Solve for the stationary equilibrium"
   ]
  },
  {
   "cell_type": "markdown",
   "metadata": {},
   "source": [
    "First, I find steady state"
   ]
  },
  {
   "cell_type": "code",
   "execution_count": null,
   "metadata": {},
   "outputs": [],
   "source": [
    "model.find_ss(do_print=True,method='direct')"
   ]
  },
  {
   "cell_type": "markdown",
   "metadata": {},
   "source": [
    "Check that markets clear:"
   ]
  },
  {
   "cell_type": "code",
   "execution_count": null,
   "metadata": {},
   "outputs": [],
   "source": [
    "model.test_path()"
   ]
  },
  {
   "cell_type": "markdown",
   "metadata": {},
   "source": [
    "Determinants of wealth inequality"
   ]
  },
  {
   "cell_type": "code",
   "execution_count": null,
   "metadata": {},
   "outputs": [],
   "source": [
    "fig = plt.figure(figsize=(12,4),dpi=100)\n",
    "\n",
    "# a. income\n",
    "ax = fig.add_subplot(1,2,1)\n",
    "ax.set_title('productivity')\n",
    "for i_beta,beta in enumerate(par.beta_grid):\n",
    "    ax.plot(par.z_grid,np.cumsum(np.sum(ss.D[i_beta],axis=1))*par.Nfix,label=f'$\\\\beta = {beta:.4f}, \\\\eta = {par.phi_grid[i_beta]:.0f}$')\n",
    "\n",
    "ax.set_xlabel('productivity, $z_{t}$')\n",
    "ax.set_ylabel('CDF')\n",
    "ax.legend()\n",
    "\n",
    "# b. assets\n",
    "ax = fig.add_subplot(1,2,2)\n",
    "ax.set_title('savings')\n",
    "for i_beta in range(par.Nfix):\n",
    "    ax.plot(np.insert(par.a_grid,0,par.a_grid[0]),np.insert(np.cumsum(np.sum(ss.D[i_beta],axis=0)),0,0.0)*par.Nfix,label=f'$\\\\beta = {par.beta_grid[i_beta]:.4f}$')\n",
    "ax.set_xlabel('assets, $a_{t}$')\n",
    "ax.set_ylabel('CDF')\n",
    "ax.set_xscale('symlog')\n",
    "\n",
    "fig.tight_layout()\n",
    "fig.savefig('figs/distribution.png')"
   ]
  },
  {
   "cell_type": "markdown",
   "metadata": {},
   "source": [
    "## c) Compute and inspect the Jacobians of the household block wrt. $\\varphi_1$"
   ]
  },
  {
   "cell_type": "code",
   "execution_count": null,
   "metadata": {},
   "outputs": [],
   "source": [
    "model.compute_jacs(do_print=True)"
   ]
  },
  {
   "cell_type": "code",
   "execution_count": null,
   "metadata": {},
   "outputs": [],
   "source": [
    "fig = plt.figure(figsize=(12,len(model.inputs_hh_all)*4),dpi=100)\n",
    "\n",
    "i = 0\n",
    "for varname in model.inputs_hh:\n",
    "    \n",
    "    # a. savings\n",
    "    i += 1    \n",
    "    ax = fig.add_subplot(len(model.inputs_hh_all),2,i)\n",
    "    ax.set_title(f'savings, $a_t$, to {varname}')\n",
    "    for s in [0,50,150,250]:\n",
    "        jac_hh_var = model.jac_hh[('A_hh',varname)]\n",
    "        ax.plot(np.arange(par.T),jac_hh_var[:,s],label=f'shock at {s}')\n",
    "    \n",
    "    if i == 1:\n",
    "        ax.legend(frameon=True,bbox_to_anchor=(2.75,0.0))\n",
    "\n",
    "    # b. consumption\n",
    "    i += 1    \n",
    "    ax = fig.add_subplot(len(model.inputs_hh_all),2,i)\n",
    "    ax.set_title(f'consumption, $c_t$, to {varname}')\n",
    "    for s in [0,50,150,250]:\n",
    "        jac_hh_var = model.jac_hh[('C_hh',varname)]\n",
    "        ax.plot(np.arange(par.T),jac_hh_var[:,s],label=f'shock at {s}')\n",
    "plt.savefig('figs/Jacobians.png')"
   ]
  },
  {
   "cell_type": "markdown",
   "metadata": {},
   "source": [
    "## d) Solve for the transition path when $\\varphi_{1t}$ is 10 percent higher for 10 periods"
   ]
  },
  {
   "cell_type": "code",
   "execution_count": null,
   "metadata": {},
   "outputs": [],
   "source": [
    "model_transitory = model.copy()"
   ]
  },
  {
   "cell_type": "code",
   "execution_count": null,
   "metadata": {},
   "outputs": [],
   "source": [
    "paths = ['phi1','Y','K','r','w0','w1','L0','L1']\n",
    "\n",
    "# a. define shock\n",
    "dphi1 = np.zeros(par.T)\n",
    "dphi1[39:49] = 0.1*par.phi1\n",
    "shocks = {'dphi1':dphi1}\n",
    "\n",
    "# b. find transition path\n",
    "model_transitory.find_transition_path(do_print=True,shocks=shocks)"
   ]
  },
  {
   "cell_type": "code",
   "execution_count": null,
   "metadata": {},
   "outputs": [],
   "source": [
    "model_transitory.show_IRFs(paths,ncols=3,filename='figs/transitory_shock')"
   ]
  },
  {
   "cell_type": "code",
   "execution_count": null,
   "metadata": {},
   "outputs": [],
   "source": [
    "v = np.sum([par.beta_grid[i_fix]**t*np.sum(path.u[t,i_fix]*path.D[t,i_fix]/np.sum(path.D[t,i_fix])) for t in range(par.T)])"
   ]
  },
  {
   "cell_type": "markdown",
   "metadata": {},
   "source": [
    "## e) Solve for the transition path when $\\varphi_{1t}$ is permanently 10 percent higher"
   ]
  },
  {
   "cell_type": "code",
   "execution_count": null,
   "metadata": {},
   "outputs": [],
   "source": [
    "model_permanent = model.copy()"
   ]
  },
  {
   "cell_type": "code",
   "execution_count": null,
   "metadata": {},
   "outputs": [],
   "source": [
    "paths = ['phi1','Y','K','r','w0','w1','L0','L1']\n",
    "\n",
    "# a. define shock\n",
    "dphi1 = np.zeros(par.T)\n",
    "dphi1[20:] = 0.1*par.phi1\n",
    "shocks = {'dphi1':dphi1}\n",
    "\n",
    "# b. find transition path\n",
    "model_permanent.find_transition_path(do_print=True,shocks=shocks)"
   ]
  },
  {
   "cell_type": "code",
   "execution_count": null,
   "metadata": {},
   "outputs": [],
   "source": [
    "model_permanent.show_IRFs(paths,ncols=3,T_max=500,filename='figs/permanent_shock')"
   ]
  }
 ],
 "metadata": {
  "kernelspec": {
   "display_name": "Emma",
   "language": "python",
   "name": "python3"
  },
  "language_info": {
   "codemirror_mode": {
    "name": "ipython",
    "version": 3
   },
   "file_extension": ".py",
   "mimetype": "text/x-python",
   "name": "python",
   "nbconvert_exporter": "python",
   "pygments_lexer": "ipython3",
   "version": "3.8.16"
  },
  "orig_nbformat": 4
 },
 "nbformat": 4,
 "nbformat_minor": 2
}
