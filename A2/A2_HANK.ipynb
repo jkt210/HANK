{
 "cells": [
  {
   "cell_type": "markdown",
   "metadata": {},
   "source": [
    "# Advanced Macroeconomics - Heterogenous Agent Models\n",
    "Assignment II - HANC with a Welfare State"
   ]
  },
  {
   "cell_type": "code",
   "execution_count": 2,
   "metadata": {},
   "outputs": [
    {
     "name": "stdout",
     "output_type": "stream",
     "text": [
      "The autoreload extension is already loaded. To reload it, use:\n",
      "  %reload_ext autoreload\n"
     ]
    }
   ],
   "source": [
    "%load_ext autoreload\n",
    "%autoreload 2\n",
    "\n",
    "import time\n",
    "import pickle\n",
    "import numpy as np\n",
    "from scipy import optimize\n",
    "\n",
    "import matplotlib.pyplot as plt   \n",
    "colors = plt.rcParams['axes.prop_cycle'].by_key()['color']\n",
    "plt.rcParams.update({\"axes.grid\" : True, \"grid.color\": \"black\", \"grid.alpha\":\"0.25\", \"grid.linestyle\": \"--\"})\n",
    "plt.rcParams.update({'font.size': 14})\n",
    "\n",
    "from HANCWelfareModel import HANCWelfareModelClass\n",
    "from steady_state import obj_ss"
   ]
  },
  {
   "cell_type": "markdown",
   "metadata": {},
   "source": [
    "## a) Find the stationary equilibrium without a government $(G_t=L_t^G=\\Chi_t=0)$"
   ]
  },
  {
   "cell_type": "markdown",
   "metadata": {},
   "source": [
    "Setup:"
   ]
  },
  {
   "cell_type": "code",
   "execution_count": 3,
   "metadata": {},
   "outputs": [],
   "source": [
    "model = HANCWelfareModelClass(name='baseline')"
   ]
  },
  {
   "cell_type": "code",
   "execution_count": 10,
   "metadata": {},
   "outputs": [],
   "source": [
    "par = model.par\n",
    "ss = model.ss\n",
    "path = model.path\n",
    "sim = model.sim"
   ]
  },
  {
   "cell_type": "markdown",
   "metadata": {},
   "source": [
    "Solving and simulating the household problem"
   ]
  },
  {
   "cell_type": "code",
   "execution_count": 11,
   "metadata": {},
   "outputs": [
    {
     "name": "stdout",
     "output_type": "stream",
     "text": [
      "household problem in ss solved in 0.3 secs [345 iterations]\n",
      "household problem in ss simulated in 0.0 secs [399 iterations]\n"
     ]
    }
   ],
   "source": [
    "ss.r = 0.02*(1-0.1)\n",
    "ss.wt = 1.00*(1-0.3)\n",
    "model.solve_hh_ss(do_print=True)\n",
    "model.simulate_hh_ss(do_print=True)"
   ]
  },
  {
   "cell_type": "code",
   "execution_count": 12,
   "metadata": {},
   "outputs": [],
   "source": [
    "# model.test_hh_path()"
   ]
  },
  {
   "cell_type": "markdown",
   "metadata": {},
   "source": [
    "Find stationary equilibrium"
   ]
  },
  {
   "cell_type": "code",
   "execution_count": 13,
   "metadata": {},
   "outputs": [
    {
     "name": "stdout",
     "output_type": "stream",
     "text": [
      "starting at [3.8624]\n",
      "\n",
      " message: The solution converged.\n",
      " success: True\n",
      "  status: 1\n",
      "     fun: 6.981082378842984e-13\n",
      "       x: [ 3.673e+00]\n",
      "    nfev: 8\n",
      "    fjac: [[-1.000e+00]]\n",
      "       r: [-8.480e+00]\n",
      "     qtf: [-6.223e-08]\n",
      "\n",
      "steady state found in 7.2 secs\n",
      "ss.K =  3.389\n",
      "ss.B =  0.000\n",
      "ss.A_hh =  3.389\n",
      "ss.L =  0.923\n",
      "ss.Y =  1.363\n",
      "ss.r =  0.021\n",
      "ss.w =  1.034\n",
      "ss.U_hh = -1.618\n",
      "ss.clearing_A = 6.98e-13\n",
      "ss.clearing_L = 0.00e+00\n",
      "ss.clearing_Y = 1.29e-10\n"
     ]
    }
   ],
   "source": [
    "model.find_ss(do_print=True)"
   ]
  },
  {
   "cell_type": "markdown",
   "metadata": {},
   "source": [
    "Calculate the expected discounted utility:"
   ]
  },
  {
   "cell_type": "code",
   "execution_count": 18,
   "metadata": {},
   "outputs": [
    {
     "name": "stdout",
     "output_type": "stream",
     "text": [
      "Expected discounted utility is equal to: -40.448590780790454\n"
     ]
    }
   ],
   "source": [
    "v = np.sum([par.beta**t*\n",
    "            np.sum(ss.U_hh*ss.D/np.sum(ss.D))\n",
    "            for t in range(par.T)])\n",
    "print(\"Expected discounted utility is equal to:\", v)"
   ]
  },
  {
   "cell_type": "markdown",
   "metadata": {},
   "source": [
    "## b) Find optimal welfare policies I"
   ]
  },
  {
   "cell_type": "code",
   "execution_count": null,
   "metadata": {},
   "outputs": [],
   "source": []
  },
  {
   "cell_type": "markdown",
   "metadata": {},
   "source": [
    "## c) Find optimal welfare policies II"
   ]
  },
  {
   "cell_type": "code",
   "execution_count": null,
   "metadata": {},
   "outputs": [],
   "source": []
  },
  {
   "cell_type": "markdown",
   "metadata": {},
   "source": [
    "## d) Increased TFP"
   ]
  },
  {
   "cell_type": "code",
   "execution_count": null,
   "metadata": {},
   "outputs": [],
   "source": []
  },
  {
   "cell_type": "markdown",
   "metadata": {},
   "source": [
    "## e) Transition path"
   ]
  },
  {
   "cell_type": "code",
   "execution_count": null,
   "metadata": {},
   "outputs": [],
   "source": []
  }
 ],
 "metadata": {
  "kernelspec": {
   "display_name": "Emma",
   "language": "python",
   "name": "python3"
  },
  "language_info": {
   "codemirror_mode": {
    "name": "ipython",
    "version": 3
   },
   "file_extension": ".py",
   "mimetype": "text/x-python",
   "name": "python",
   "nbconvert_exporter": "python",
   "pygments_lexer": "ipython3",
   "version": "3.8.16"
  },
  "orig_nbformat": 4
 },
 "nbformat": 4,
 "nbformat_minor": 2
}
